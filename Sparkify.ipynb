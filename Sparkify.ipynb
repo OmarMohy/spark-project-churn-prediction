{
 "cells": [
  {
   "cell_type": "markdown",
   "metadata": {},
   "source": [
    "# Sparkify Project Workspace\n",
    "This workspace contains a tiny subset (128MB) of the full dataset available (12GB). Feel free to use this workspace to build your project, or to explore a smaller subset with Spark before deploying your cluster on the cloud. Instructions for setting up your Spark cluster is included in the last lesson of the Extracurricular Spark Course content.\n",
    "\n",
    "You can follow the steps below to guide your data analysis and model building portion of this project."
   ]
  },
  {
   "cell_type": "code",
   "execution_count": 1,
   "metadata": {},
   "outputs": [],
   "source": [
    "# import libraries\n",
    "import pyspark\n",
    "from pyspark.sql import SparkSession\n",
    "import pyspark.sql.functions as F\n",
    "from pyspark.sql.types import (IntegerType, StringType, DoubleType, DateType)\n",
    "from pyspark.sql.window import Window\n",
    "import numpy as np\n",
    "import pandas as pd \n",
    "#for visualizing\n",
    "import matplotlib.pyplot as plt \n",
    "import seaborn as sb\n",
    "import datetime\n",
    "from pyspark.sql.functions import col,sum\n",
    "from pyspark.sql.functions import dayofmonth, hour, dayofyear, month, year, weekofyear"
   ]
  },
  {
   "cell_type": "markdown",
   "metadata": {},
   "source": [
    "# Load and Clean Dataset\n",
    "In this workspace, the mini-dataset file is `mini_sparkify_event_data.json`. Load and clean the dataset, checking for invalid or missing data - for example, records without userids or sessionids. "
   ]
  },
  {
   "cell_type": "code",
   "execution_count": 2,
   "metadata": {},
   "outputs": [],
   "source": [
    "# create a Spark session\n",
    "spark = SparkSession.Builder().appName(\"capstone\").getOrCreate()"
   ]
  },
  {
   "cell_type": "code",
   "execution_count": 3,
   "metadata": {},
   "outputs": [],
   "source": [
    "df = spark.read.json('mini_sparkify_event_data.json')"
   ]
  },
  {
   "cell_type": "code",
   "execution_count": 12,
   "metadata": {},
   "outputs": [
    {
     "data": {
      "text/plain": [
       "286500"
      ]
     },
     "execution_count": 12,
     "metadata": {},
     "output_type": "execute_result"
    }
   ],
   "source": [
    "df.count()"
   ]
  },
  {
   "cell_type": "code",
   "execution_count": 9,
   "metadata": {},
   "outputs": [
    {
     "name": "stdout",
     "output_type": "stream",
     "text": [
      "root\n",
      " |-- artist: string (nullable = true)\n",
      " |-- auth: string (nullable = true)\n",
      " |-- firstName: string (nullable = true)\n",
      " |-- gender: string (nullable = true)\n",
      " |-- itemInSession: long (nullable = true)\n",
      " |-- lastName: string (nullable = true)\n",
      " |-- length: double (nullable = true)\n",
      " |-- level: string (nullable = true)\n",
      " |-- location: string (nullable = true)\n",
      " |-- method: string (nullable = true)\n",
      " |-- page: string (nullable = true)\n",
      " |-- registration: long (nullable = true)\n",
      " |-- sessionId: long (nullable = true)\n",
      " |-- song: string (nullable = true)\n",
      " |-- status: long (nullable = true)\n",
      " |-- ts: long (nullable = true)\n",
      " |-- userAgent: string (nullable = true)\n",
      " |-- userId: string (nullable = true)\n",
      "\n"
     ]
    }
   ],
   "source": [
    "df.printSchema()"
   ]
  },
  {
   "cell_type": "code",
   "execution_count": 16,
   "metadata": {},
   "outputs": [
    {
     "name": "stdout",
     "output_type": "stream",
     "text": [
      "+--------------------+------+\n",
      "|                page| count|\n",
      "+--------------------+------+\n",
      "|            NextSong|228108|\n",
      "|                Home| 14457|\n",
      "|           Thumbs Up| 12551|\n",
      "|     Add to Playlist|  6526|\n",
      "|          Add Friend|  4277|\n",
      "|         Roll Advert|  3933|\n",
      "|               Login|  3241|\n",
      "|              Logout|  3226|\n",
      "|         Thumbs Down|  2546|\n",
      "|           Downgrade|  2055|\n",
      "|                Help|  1726|\n",
      "|            Settings|  1514|\n",
      "|               About|   924|\n",
      "|             Upgrade|   499|\n",
      "|       Save Settings|   310|\n",
      "|               Error|   258|\n",
      "|      Submit Upgrade|   159|\n",
      "|    Submit Downgrade|    63|\n",
      "|              Cancel|    52|\n",
      "|Cancellation Conf...|    52|\n",
      "|            Register|    18|\n",
      "| Submit Registration|     5|\n",
      "+--------------------+------+\n",
      "\n"
     ]
    }
   ],
   "source": [
    "# Possible events for users\n",
    "df.groupby('page').count().orderBy('count', ascending=False).show(25)"
   ]
  },
  {
   "cell_type": "markdown",
   "metadata": {},
   "source": [
    "#### #Remove records with empty userId"
   ]
  },
  {
   "cell_type": "code",
   "execution_count": 4,
   "metadata": {},
   "outputs": [],
   "source": [
    "df = df[df['userId'] != '']"
   ]
  },
  {
   "cell_type": "code",
   "execution_count": 38,
   "metadata": {},
   "outputs": [
    {
     "data": {
      "text/plain": [
       "278154"
      ]
     },
     "execution_count": 38,
     "metadata": {},
     "output_type": "execute_result"
    }
   ],
   "source": [
    "df.count()"
   ]
  },
  {
   "cell_type": "markdown",
   "metadata": {},
   "source": [
    "#### #Count the missing values"
   ]
  },
  {
   "cell_type": "code",
   "execution_count": 41,
   "metadata": {},
   "outputs": [
    {
     "name": "stdout",
     "output_type": "stream",
     "text": [
      "+------+----+---------+------+-------------+--------+------+-----+--------+------+----+------------+---------+-----+------+---+---------+------+\n",
      "|artist|auth|firstName|gender|itemInSession|lastName|length|level|location|method|page|registration|sessionId| song|status| ts|userAgent|userId|\n",
      "+------+----+---------+------+-------------+--------+------+-----+--------+------+----+------------+---------+-----+------+---+---------+------+\n",
      "| 50046|   0|        0|     0|            0|       0| 50046|    0|       0|     0|   0|           0|        0|50046|     0|  0|        0|     0|\n",
      "+------+----+---------+------+-------------+--------+------+-----+--------+------+----+------------+---------+-----+------+---+---------+------+\n",
      "\n"
     ]
    }
   ],
   "source": [
    "from pyspark.sql.functions import col,sum\n",
    "df.select(*(sum(col(c).isNull().cast(\"int\")).alias(c) for c in df.columns)).show()\n"
   ]
  },
  {
   "cell_type": "markdown",
   "metadata": {},
   "source": [
    "# Exploratory Data Analysis\n",
    "When you're working with the full dataset, perform EDA by loading a small subset of the data and doing basic manipulations within Spark. In this workspace, you are already provided a small subset of data you can explore.\n",
    "\n",
    "### Define Churn\n",
    "\n",
    "Once you've done some preliminary analysis, create a column `Churn` to use as the label for your model. I suggest using the `Cancellation Confirmation` events to define your churn, which happen for both paid and free users. As a bonus task, you can also look into the `Downgrade` events.\n",
    "\n",
    "### Explore Data\n",
    "Once you've defined churn, perform some exploratory data analysis to observe the behavior for users who stayed vs users who churned. You can start by exploring aggregates on these two groups of users, observing how much of a specific action they experienced per a certain time unit or number of songs played."
   ]
  },
  {
   "cell_type": "code",
   "execution_count": 5,
   "metadata": {},
   "outputs": [],
   "source": [
    "# Have a clear time\n",
    "get_time = F.udf(lambda x: datetime.datetime.fromtimestamp(x/1000).strftime(\"%m-%d-%Y %H:%M:%S\"))\n",
    "df = df.withColumn('time', get_time(df.ts))\n",
    "#df.select(['firstName', 'gender', 'level', 'page', 'song', 'artist', 'time']).filter('firstName == \"Colin\"').sample(0.5).show()"
   ]
  },
  {
   "cell_type": "code",
   "execution_count": 6,
   "metadata": {},
   "outputs": [
    {
     "name": "stdout",
     "output_type": "stream",
     "text": [
      "+-------------------+\n",
      "|               time|\n",
      "+-------------------+\n",
      "|10-01-2018 00:01:57|\n",
      "+-------------------+\n",
      "only showing top 1 row\n",
      "\n"
     ]
    }
   ],
   "source": [
    "df.select(df.time).show(1)"
   ]
  },
  {
   "cell_type": "code",
   "execution_count": 5,
   "metadata": {},
   "outputs": [],
   "source": [
    "#Add an hour column\n",
    "get_hour = F.udf(lambda x: datetime.datetime.fromtimestamp(x/1000).hour)\n",
    "df = df.withColumn('hour', get_hour(df.ts))"
   ]
  },
  {
   "cell_type": "code",
   "execution_count": 6,
   "metadata": {},
   "outputs": [],
   "source": [
    "#Add a weekday column\n",
    "get_weekday = F.udf(lambda x: datetime.datetime.fromtimestamp(x/1000).strftime(\"%w\"))\n",
    "df = df.withColumn('weekday', get_weekday(df.ts))"
   ]
  },
  {
   "cell_type": "code",
   "execution_count": 9,
   "metadata": {},
   "outputs": [],
   "source": [
    "# Add churn column\n",
    "churn = F.udf(lambda x: 1 if x == 'Cancellation Confirmation' else 0, IntegerType())\n",
    "df = df.withColumn('churn', churn(df.page))"
   ]
  },
  {
   "cell_type": "markdown",
   "metadata": {},
   "source": [
    "#### Event Distribution"
   ]
  },
  {
   "cell_type": "code",
   "execution_count": 93,
   "metadata": {},
   "outputs": [
    {
     "data": {
      "text/plain": [
       "Text(0,0.5,'events')"
      ]
     },
     "execution_count": 93,
     "metadata": {},
     "output_type": "execute_result"
    },
    {
     "data": {
      "image/png": "[encoded data removed]",
      "text/plain": [
       "<matplotlib.figure.Figure at 0x7fc8cd4784a8>"
      ]
     },
     "metadata": {
      "needs_background": "light"
     },
     "output_type": "display_data"
    }
   ],
   "source": [
    "events_pandas_df = df.groupby('page').count().orderBy('count', ascending=False).toPandas()\n",
    "plt.figure(figsize=(10,6))\n",
    "sb.barplot(y=events_pandas_df.page, x=events_pandas_df['count'], color=sb.color_palette()[0])\n",
    "plt.xlabel('percentage of events (%)')\n",
    "plt.ylabel('events')\n",
    "plt.title('Event Distribution');"
   ]
  },
  {
   "cell_type": "markdown",
   "metadata": {},
   "source": [
    "#### Analysis on churned cutomers"
   ]
  },
  {
   "cell_type": "code",
   "execution_count": 11,
   "metadata": {},
   "outputs": [],
   "source": [
    "churn_df = df.filter('churn == 1')"
   ]
  },
  {
   "cell_type": "code",
   "execution_count": 128,
   "metadata": {},
   "outputs": [
    {
     "data": {
      "text/plain": [
       "Text(0.5,1,'gender churn distribution')"
      ]
     },
     "execution_count": 128,
     "metadata": {},
     "output_type": "execute_result"
    },
    {
     "data": {
      "image/png": "[encoded data removed]",
      "text/plain": [
       "<matplotlib.figure.Figure at 0x7fc8cd211160>"
      ]
     },
     "metadata": {
      "needs_background": "light"
     },
     "output_type": "display_data"
    }
   ],
   "source": [
    "# gender churn distribution\n",
    "gender_churn_df = churn_df.groupby(['gender']).count().orderBy('count', ascending=False).toPandas()\n",
    "#plt.figure(figsize=(10,6))\n",
    "sb.barplot(y=gender_churn_df['count'], x=gender_churn_df['gender'], color=sb.color_palette()[0]);\n",
    "plt.title('gender churn distribution');"
   ]
  },
  {
   "cell_type": "code",
   "execution_count": 127,
   "metadata": {},
   "outputs": [
    {
     "data": {
      "text/plain": [
       "Text(0.5,1,'Subscribtion level for churned customers distribution')"
      ]
     },
     "execution_count": 127,
     "metadata": {},
     "output_type": "execute_result"
    },
    {
     "data": {
      "image/png": "[encoded data removed]",
      "text/plain": [
       "<matplotlib.figure.Figure at 0x7fc8cd1be898>"
      ]
     },
     "metadata": {
      "needs_background": "light"
     },
     "output_type": "display_data"
    }
   ],
   "source": [
    "# Subscribtion level for churned customers distribution\n",
    "level_churn_df = churn_df.groupby(['level']).count().orderBy('count', ascending=False).toPandas()\n",
    "sb.barplot(y=level_churn_df['count'], x=level_churn_df['level'], color=sb.color_palette()[0]);\n",
    "plt.title('Subscribtion level for churned customers distribution');"
   ]
  },
  {
   "cell_type": "code",
   "execution_count": 159,
   "metadata": {},
   "outputs": [
    {
     "name": "stdout",
     "output_type": "stream",
     "text": [
      "+-------+-----+\n",
      "|weekday|count|\n",
      "+-------+-----+\n",
      "|      5|   26|\n",
      "|      1|   18|\n",
      "|      6|   15|\n",
      "|      3|   14|\n",
      "|      2|   12|\n",
      "|      4|   10|\n",
      "|      0|    9|\n",
      "+-------+-----+\n",
      "\n"
     ]
    }
   ],
   "source": [
    "churn_df.groupby(['weekday']).count().orderBy('count', ascending=False).show()"
   ]
  },
  {
   "cell_type": "code",
   "execution_count": 162,
   "metadata": {},
   "outputs": [
    {
     "data": {
      "image/png": "[encoded data removed]",
      "text/plain": [
       "<matplotlib.figure.Figure at 0x7fc8cd0082e8>"
      ]
     },
     "metadata": {
      "needs_background": "light"
     },
     "output_type": "display_data"
    }
   ],
   "source": [
    "# Weekday for churned customers distribution\n",
    "week_churn_df = churn_df.groupby(['weekday']).count().orderBy('count', ascending=False).toPandas()\n",
    "sb.barplot(y=week_churn_df['count'], x=week_churn_df['weekday'], color=sb.color_palette()[0]);\n",
    "plt.title('Weekday for churned customers distribution');\n",
    "plt.xticks([0,1,2,3,4,5,6], ['mon', 'tues', 'wed', 'thurs', 'fri', 'sat', 'sun']);"
   ]
  },
  {
   "cell_type": "code",
   "execution_count": 186,
   "metadata": {},
   "outputs": [
    {
     "data": {
      "image/png": "[encoded data removed]",
      "text/plain": [
       "<matplotlib.figure.Figure at 0x7fc8ccd18e10>"
      ]
     },
     "metadata": {
      "needs_background": "light"
     },
     "output_type": "display_data"
    }
   ],
   "source": [
    "# hours for churned customers distribution\n",
    "hour_churn_df = churn_df.groupby(['hour']).count().orderBy('count', ascending=False).toPandas()\n",
    "hour_churn_df.hour = hour_churn_df.hour.astype('int64')\n",
    "hour_churn_df.sort_values(by = 'hour', ascending=True,inplace = True)\n",
    "plt.figure(figsize=(10,6))\n",
    "sb.barplot(y=hour_churn_df['count'], x=hour_churn_df['hour'], color=sb.color_palette()[0]);\n",
    "plt.title('hours for churned customers distribution');"
   ]
  },
  {
   "cell_type": "code",
   "execution_count": 182,
   "metadata": {},
   "outputs": [
    {
     "name": "stdout",
     "output_type": "stream",
     "text": [
      "+--------------------+-----+\n",
      "|            location|count|\n",
      "+--------------------+-----+\n",
      "|New York-Newark-J...|   10|\n",
      "|Los Angeles-Long ...|    6|\n",
      "|Spokane-Spokane V...|    4|\n",
      "|         Jackson, MS|    4|\n",
      "|Philadelphia-Camd...|    4|\n",
      "|Phoenix-Mesa-Scot...|    4|\n",
      "|Miami-Fort Lauder...|    4|\n",
      "|           Flint, MI|    4|\n",
      "|Indianapolis-Carm...|    2|\n",
      "|Birmingham-Hoover...|    2|\n",
      "+--------------------+-----+\n",
      "only showing top 10 rows\n",
      "\n"
     ]
    }
   ],
   "source": [
    "# Location of most churned customers\n",
    "churn_df.groupby(['location']).count().orderBy('count', ascending=False).show(10)"
   ]
  },
  {
   "cell_type": "markdown",
   "metadata": {},
   "source": [
    "# Feature Engineering\n",
    "Once you've familiarized yourself with the data, build out the features you find promising to train your model on. To work with the full dataset, you can follow the following steps.\n",
    "- Write a script to extract the necessary features from the smaller subset of data\n",
    "- Ensure that your script is scalable, using the best practices discussed in Lesson 3\n",
    "- Try your script on the full data set, debugging your script if necessary\n",
    "\n",
    "If you are working in the classroom workspace, you can just extract features based on the small subset of data contained here. Be sure to transfer over this work to the larger dataset when you work on your Spark cluster."
   ]
  },
  {
   "cell_type": "code",
   "execution_count": 10,
   "metadata": {},
   "outputs": [],
   "source": [
    "# Add gender feature\n",
    "gender = df.select('userId', 'gender').dropDuplicates(subset=['userId']).\\\n",
    "replace(['F', 'M'], ['0', '1'], 'gender').select('userId', F.col('gender').cast('int'))\n"
   ]
  },
  {
   "cell_type": "code",
   "execution_count": 11,
   "metadata": {},
   "outputs": [],
   "source": [
    "# Add Subscription feature\n",
    "subscription = df.select('userId', 'level').dropDuplicates(subset=['userId']).\\\n",
    "replace(['free', 'paid'], ['0', '1'], 'level').select('userId', F.col('level').cast('int'))"
   ]
  },
  {
   "cell_type": "code",
   "execution_count": 12,
   "metadata": {},
   "outputs": [],
   "source": [
    "# Time Spent listening feature\n",
    "time_spent = df.select('userID','length').groupBy('userID').sum().withColumnRenamed('sum(length)', 'time_spent')"
   ]
  },
  {
   "cell_type": "code",
   "execution_count": 13,
   "metadata": {},
   "outputs": [],
   "source": [
    "# Number of friends added\n",
    "friends = df.select('userID','page').filter('page == \"Add Friend\"')\\\n",
    ".groupBy('userID').count().withColumnRenamed('count', 'added_friends')"
   ]
  },
  {
   "cell_type": "code",
   "execution_count": 14,
   "metadata": {},
   "outputs": [],
   "source": [
    "#Number of playlist songs\n",
    "playlists = df.select('userID','page').filter('page == \"Add to Playlist\"')\\\n",
    ".groupBy('userID').count().withColumnRenamed('count', 'songs_playlisted')"
   ]
  },
  {
   "cell_type": "code",
   "execution_count": 15,
   "metadata": {},
   "outputs": [],
   "source": [
    "# Number of help requests\n",
    "help_req = df.select('userID','page').filter('page == \"Help\"')\\\n",
    ".groupBy('userID').count().withColumnRenamed('count', 'help_requests')"
   ]
  },
  {
   "cell_type": "code",
   "execution_count": 16,
   "metadata": {},
   "outputs": [],
   "source": [
    "# Add downgraded column\n",
    "is_downgraded = F.udf(lambda x: 1 if x == 'Submit Downgrade' else 0, IntegerType())\n",
    "df = df.withColumn('is_downgraded', is_downgraded(df.page))\n",
    "\n",
    "#Add downgraded feature\n",
    "# Note the sorting part here to ensure if a customer made submit downgrade\n",
    "# he is not removed dute to drop duplicates\n",
    "downgraded = df.select('userId', 'is_downgraded').sort('is_downgraded', ascending=False).dropDuplicates(subset=['userId'])"
   ]
  },
  {
   "cell_type": "code",
   "execution_count": 17,
   "metadata": {},
   "outputs": [],
   "source": [
    "# Add churn label\n",
    "churn = df.select('userId', 'churn').sort('churn', ascending=False).dropDuplicates(subset=['userId'])"
   ]
  },
  {
   "cell_type": "code",
   "execution_count": 18,
   "metadata": {},
   "outputs": [],
   "source": [
    "# Join features and labels into new dataframe\n",
    "\n",
    "new_df = gender.join(subscription, on='userId', how='outer')\\\n",
    "               .join(time_spent, on='userId', how='outer')\\\n",
    "               .join(friends, on='userId', how='outer')\\\n",
    "               .join(playlists, on='userId', how='outer')\\\n",
    "               .join(help_req, on='userId', how='outer')\\\n",
    "               .join(downgraded, on='userId', how='outer')\\\n",
    "               .join(churn, on='userId', how='outer')\\\n",
    "               .fillna(0)"
   ]
  },
  {
   "cell_type": "code",
   "execution_count": 105,
   "metadata": {},
   "outputs": [
    {
     "data": {
      "text/plain": [
       "225"
      ]
     },
     "execution_count": 105,
     "metadata": {},
     "output_type": "execute_result"
    }
   ],
   "source": [
    "#check size of data\n",
    "new_df.count()"
   ]
  },
  {
   "cell_type": "code",
   "execution_count": 106,
   "metadata": {},
   "outputs": [
    {
     "name": "stdout",
     "output_type": "stream",
     "text": [
      "root\n",
      " |-- userId: string (nullable = true)\n",
      " |-- gender: integer (nullable = true)\n",
      " |-- level: integer (nullable = true)\n",
      " |-- sum(length): double (nullable = false)\n",
      " |-- added_friends: long (nullable = true)\n",
      " |-- songs_playlisted: long (nullable = true)\n",
      " |-- help_requests: long (nullable = true)\n",
      " |-- is_downgraded: integer (nullable = true)\n",
      " |-- churn: integer (nullable = true)\n",
      "\n"
     ]
    }
   ],
   "source": [
    "# check data types\n",
    "new_df.printSchema()"
   ]
  },
  {
   "cell_type": "code",
   "execution_count": 19,
   "metadata": {},
   "outputs": [
    {
     "name": "stdout",
     "output_type": "stream",
     "text": [
      "+------+------+-----+------------------+-------------+----------------+-------------+-------------+-----+\n",
      "|userId|gender|level|        time_spent|added_friends|songs_playlisted|help_requests|is_downgraded|churn|\n",
      "+------+------+-----+------------------+-------------+----------------+-------------+-------------+-----+\n",
      "|100010|     0|    0| 66940.89735000003|            4|               7|            2|            0|    0|\n",
      "|200002|     1|    0| 94008.87593999993|            4|               8|            2|            0|    0|\n",
      "|   125|     1|    0|2089.1131000000005|            0|               0|            0|            0|    1|\n",
      "|   124|     0|    1|1012312.0927899999|           74|             118|           23|            0|    0|\n",
      "|    51|     1|    1| 523275.8428000004|           28|              52|           12|            0|    1|\n",
      "+------+------+-----+------------------+-------------+----------------+-------------+-------------+-----+\n",
      "only showing top 5 rows\n",
      "\n"
     ]
    }
   ],
   "source": [
    "# Check dataframe\n",
    "new_df.show(5)"
   ]
  },
  {
   "cell_type": "code",
   "execution_count": 20,
   "metadata": {},
   "outputs": [
    {
     "name": "stdout",
     "output_type": "stream",
     "text": [
      "+-----+-----+\n",
      "|churn|count|\n",
      "+-----+-----+\n",
      "|    1|   52|\n",
      "|    0|  173|\n",
      "+-----+-----+\n",
      "\n"
     ]
    }
   ],
   "source": [
    "# Check if label is balalnced or not\n",
    "new_df.groupby('churn').count().show()"
   ]
  },
  {
   "cell_type": "markdown",
   "metadata": {},
   "source": [
    "we can see that data is imbalanced therefore an upsampling approach or SMOTE can be used"
   ]
  },
  {
   "cell_type": "code",
   "execution_count": 113,
   "metadata": {},
   "outputs": [
    {
     "name": "stdout",
     "output_type": "stream",
     "text": [
      "+------+------+-----+----------+-------------+----------------+-------------+-------------+-----+\n",
      "|userId|gender|level|time_spent|added_friends|songs_playlisted|help_requests|is_downgraded|churn|\n",
      "+------+------+-----+----------+-------------+----------------+-------------+-------------+-----+\n",
      "|     0|     0|    0|         0|            0|               0|            0|            0|    0|\n",
      "+------+------+-----+----------+-------------+----------------+-------------+-------------+-----+\n",
      "\n"
     ]
    }
   ],
   "source": [
    "# Check missing Values\n",
    "from pyspark.sql.functions import col,sum\n",
    "new_df.select(*(sum(col(c).isNull().cast(\"int\")).alias(c) for c in new_df.columns)).show()"
   ]
  },
  {
   "cell_type": "code",
   "execution_count": 22,
   "metadata": {},
   "outputs": [
    {
     "data": {
      "text/plain": [
       "['userId',\n",
       " 'gender',\n",
       " 'level',\n",
       " 'time_spent',\n",
       " 'added_friends',\n",
       " 'songs_playlisted',\n",
       " 'help_requests',\n",
       " 'is_downgraded',\n",
       " 'churn']"
      ]
     },
     "execution_count": 22,
     "metadata": {},
     "output_type": "execute_result"
    }
   ],
   "source": [
    "new_df.columns"
   ]
  },
  {
   "cell_type": "markdown",
   "metadata": {},
   "source": [
    "# Modeling\n",
    "Split the full dataset into train, test, and validation sets. Test out several of the machine learning methods you learned. Evaluate the accuracy of the various models, tuning parameters as necessary. Determine your winning model based on test accuracy and report results on the validation set. Since the churned users are a fairly small subset, I suggest using F1 score as the metric to optimize."
   ]
  },
  {
   "cell_type": "code",
   "execution_count": 42,
   "metadata": {},
   "outputs": [],
   "source": [
    "from pyspark.ml.feature import VectorAssembler, StandardScaler\n",
    "from pyspark.ml.classification import RandomForestClassifier, LogisticRegression\n",
    "from pyspark.ml.evaluation import BinaryClassificationEvaluator, MulticlassClassificationEvaluator"
   ]
  },
  {
   "cell_type": "code",
   "execution_count": 23,
   "metadata": {},
   "outputs": [],
   "source": [
    "# Change features into a dense vector\n",
    "df_assembler = VectorAssembler(inputCols=['gender','level','time_spent','added_friends',\n",
    "                                         'songs_playlisted','help_requests','is_downgraded'],\n",
    "                              outputCol=\"features\")\n",
    "new_df = df_assembler.transform(new_df)"
   ]
  },
  {
   "cell_type": "code",
   "execution_count": 38,
   "metadata": {},
   "outputs": [
    {
     "name": "stdout",
     "output_type": "stream",
     "text": [
      "+--------------------+-----+\n",
      "|            features|label|\n",
      "+--------------------+-----+\n",
      "|[0.0,0.0,66940.89...|    0|\n",
      "|[1.0,0.0,94008.87...|    0|\n",
      "|(7,[0,2],[1.0,208...|    1|\n",
      "+--------------------+-----+\n",
      "only showing top 3 rows\n",
      "\n"
     ]
    }
   ],
   "source": [
    "# Final DF\n",
    "final_df = new_df.select('features', 'churn')\n",
    "final_df = final_df.withColumnRenamed('churn', 'label')\n",
    "final_df.show(3)"
   ]
  },
  {
   "cell_type": "code",
   "execution_count": 39,
   "metadata": {},
   "outputs": [],
   "source": [
    "#Split the Data into Train and Test Datasets\n",
    "train, test = final_df.randomSplit([0.75, 0.25], seed=0)"
   ]
  },
  {
   "cell_type": "markdown",
   "metadata": {},
   "source": [
    "#### Build and Train the Logistic Regression Model"
   ]
  },
  {
   "cell_type": "code",
   "execution_count": 40,
   "metadata": {},
   "outputs": [],
   "source": [
    "# Build and Train the Logistic Regression Model\n",
    "lr = LogisticRegression()\n",
    "lr_model = lr.fit(train)"
   ]
  },
  {
   "cell_type": "code",
   "execution_count": 41,
   "metadata": {},
   "outputs": [
    {
     "name": "stdout",
     "output_type": "stream",
     "text": [
      "Accuracy: 0.7425149700598802\n",
      "AUC: 0.6567891972993248\n",
      "recall: 0.7425149700598802\n",
      "Precision: 0.5513284807630249\n"
     ]
    }
   ],
   "source": [
    "# Evaluate Performance on Training Data\n",
    "lr_summary = lr_model.summary\n",
    "print('Accuracy: {}'.format(lr_summary.accuracy))\n",
    "print('AUC: {}'.format(lr_summary.areaUnderROC))\n",
    "print('recall: {}'.format(lr_summary.weightedRecall))\n",
    "print('Precision: {}'.format(lr_summary.weightedPrecision))`"
   ]
  },
  {
   "cell_type": "code",
   "execution_count": 53,
   "metadata": {},
   "outputs": [
    {
     "name": "stdout",
     "output_type": "stream",
     "text": [
      "The auc value of Logistic Regression Model is0.4988662131519274\n",
      "The F1-Score value of Logistic Regression Model is0.7737673219465033\n"
     ]
    }
   ],
   "source": [
    "#Evaluate Performance on Test Data\n",
    "lr_model_predictions = lr_model.transform(test)\n",
    "\n",
    "lr_evaluator = BinaryClassificationEvaluator(metricName='areaUnderROC')\n",
    "lr_auroc = lr_evaluator.evaluate(lr_model_predictions)\n",
    "print(f'The auc value of Logistic Regression Model is {lr_auroc}')\n",
    "\n",
    "lr_evaluator = MulticlassClassificationEvaluator()\n",
    "lr_f1 = lr_evaluator.evaluate(lr_model_predictions,{lr_evaluator.metricName: \"f1\"})\n",
    "print(f'The F1-Score value of Logistic Regression Model is {lr_f1}')"
   ]
  },
  {
   "cell_type": "markdown",
   "metadata": {},
   "source": [
    "#### Build and Train the Random Forest Model"
   ]
  },
  {
   "cell_type": "code",
   "execution_count": 59,
   "metadata": {},
   "outputs": [
    {
     "name": "stdout",
     "output_type": "stream",
     "text": [
      "The auc value of RandomForestClassifier Model is 0.5782312925170069\n",
      "The F1-Score value of RandomForestClassifier Model is 0.7563218390804597\n"
     ]
    }
   ],
   "source": [
    "#Build and Train the Random Forest Model\n",
    "rf = RandomForestClassifier()\n",
    "rf_model = rf.fit(train)\n",
    "\n",
    "#Evaluate Performance on Test Data\n",
    "rf_model_predictions = rf_model.transform(test)\n",
    "\n",
    "rf_evaluator = BinaryClassificationEvaluator(metricName='areaUnderROC')\n",
    "rf_auroc = rf_evaluator.evaluate(rf_model_predictions)\n",
    "print(f'The auc value of RandomForestClassifier Model is {rf_auroc}')\n",
    "\n",
    "rf_evaluator = MulticlassClassificationEvaluator(metricName='f1')\n",
    "rf_f1 = lr_evaluator.evaluate(rf_model_predictions)\n",
    "print(f'The F1-Score value of RandomForestClassifier Model is {rf_f1}')"
   ]
  },
  {
   "cell_type": "markdown",
   "metadata": {},
   "source": [
    "# Final Steps\n",
    "Clean up your code, adding comments and renaming variables to make the code easier to read and maintain. Refer to the Spark Project Overview page and Data Scientist Capstone Project Rubric to make sure you are including all components of the capstone project and meet all expectations. Remember, this includes thorough documentation in a README file in a Github repository, as well as a web app or blog post."
   ]
  },
  {
   "cell_type": "code",
   "execution_count": null,
   "metadata": {},
   "outputs": [],
   "source": []
  }
 ],
 "metadata": {
  "kernelspec": {
   "display_name": "Python 3",
   "language": "python",
   "name": "python3"
  },
  "language_info": {
   "codemirror_mode": {
    "name": "ipython",
    "version": 3
   },
   "file_extension": ".py",
   "mimetype": "text/x-python",
   "name": "python",
   "nbconvert_exporter": "python",
   "pygments_lexer": "ipython3",
   "version": "3.6.3"
  }
 },
 "nbformat": 4,
 "nbformat_minor": 2
}
